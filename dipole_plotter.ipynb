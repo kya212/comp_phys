{
 "cells": [
  {
   "cell_type": "markdown",
   "metadata": {},
   "source": [
    "## Electric Dipole Plotter"
   ]
  },
  {
   "cell_type": "markdown",
   "metadata": {},
   "source": [
    "Code by Dr Ross Turner for KYA212/375 Computational Physics to plot the electric field strength and direction from an electric dipole.\n",
    "\n",
    "This code is written in python 2.7/3.7; to run the code select a cell and press SHIFT+ENTER."
   ]
  },
  {
   "cell_type": "markdown",
   "metadata": {},
   "source": [
    "#### Create basic 1D plots of electric field along x-axis"
   ]
  },
  {
   "cell_type": "markdown",
   "metadata": {},
   "source": [
    "Import code packages required for vector operations and to create plots."
   ]
  },
  {
   "cell_type": "code",
   "execution_count": null,
   "metadata": {},
   "outputs": [],
   "source": [
    "import numpy as np\n",
    "import matplotlib.pyplot as plt\n",
    "import matplotlib.colors as colors"
   ]
  },
  {
   "cell_type": "markdown",
   "metadata": {},
   "source": [
    "Define physical constants, the dimension/dimensions of the dipole, and the charge (or effective charge) of the positive charge element in the dipole."
   ]
  },
  {
   "cell_type": "code",
   "execution_count": null,
   "metadata": {},
   "outputs": [],
   "source": [
    "# vacuum permittivity (SI units)\n",
    "epsilon_0 = 8.85e-12\n",
    "# dipole length in x direction (SI units; i.e. metres)\n",
    "a_0 = 1e-9\n",
    "# dipole length in y direction (SI units; i.e. metres)\n",
    "b_0 = 1e-9\n",
    "# effective charge of positive charge element (SI units; i.e. Coloumbs)\n",
    "q_0 = 1.602e-19"
   ]
  },
  {
   "cell_type": "markdown",
   "metadata": {},
   "source": [
    "Define equation for electric field strength along $x$-axis ($\\theta = 0$) and evaluate for a single distance $r$."
   ]
  },
  {
   "cell_type": "code",
   "execution_count": null,
   "metadata": {},
   "outputs": [],
   "source": [
    "# define distance along x-axis and angle of x-axis (i.e. theta = 0)\n",
    "r = 1e-9\n",
    "theta = 0\n",
    "\n",
    "# calculate electric field strength in radial direction (SI units; i.e. V/m)\n",
    "E_radial = 2*(q_0*a_0)*np.cos(theta)/(4*np.pi*epsilon_0*r**3)\n",
    "# calculate electric field strength in radial direction (SI units; i.e. V/m)\n",
    "E_normal = (q_0*a_0)*np.sin(theta)/(4*np.pi*epsilon_0*r**3)\n",
    "\n",
    "# print out radial and normal components of electric field at this location\n",
    "print '({:g}, {:g}) V/m'.format(E_radial, E_normal)"
   ]
  },
  {
   "cell_type": "markdown",
   "metadata": {},
   "source": [
    "To create a plot we need to evaluate this function at multiple locations, not just one!\n",
    "\n",
    "Define a vector of radii $\\boldsymbol{r}$ along the $x$-axis ($\\theta = 0$) and calculate the electric field stength at each location."
   ]
  },
  {
   "cell_type": "code",
   "execution_count": null,
   "metadata": {},
   "outputs": [],
   "source": [
    "# define vector of radii; the example runs from 0.1nm to 10nm in steps of 0.01nm.\n",
    "r_vector = np.arange(start=1e-10, stop=1e-8 + 1e-32, step=1e-11)\n",
    "                # note the 1e-32 is used to ensure the final point is included (computer science reasons, just do it)\n",
    "# define a constant angle theta for the x-axis (i.e. theta = 0)\n",
    "theta = 0\n",
    "\n",
    "# calculate electric field strength vectors (SI units; i.e. V/m)\n",
    "E_radial = 2*(q_0*a_0)*np.cos(theta)/(4*np.pi*epsilon_0*r_vector**3)\n",
    "E_normal = (q_0*a_0)*np.sin(theta)/(4*np.pi*epsilon_0*r_vector**3)\n",
    "                # nothing has changed except that we have used a vector for r, rather than a single value (this works)\n",
    "\n",
    "# print out electric field components at first (index 0), third (index 2) and last (index -1) location\n",
    "print '({:g}, {:g}) V/m'.format(E_radial[0], E_normal[0])\n",
    "print '({:g}, {:g}) V/m'.format(E_radial[2], E_normal[2])\n",
    "print '({:g}, {:g}) V/m'.format(E_radial[-1], E_normal[-1])"
   ]
  },
  {
   "cell_type": "markdown",
   "metadata": {},
   "source": [
    "Create a plot of the radial component of the electric field $\\boldsymbol{E}$ as a function of radius $\\boldsymbol{r}$ along the $x$-axis."
   ]
  },
  {
   "cell_type": "code",
   "execution_count": null,
   "metadata": {},
   "outputs": [],
   "source": [
    "# set up size of figure\n",
    "fig = plt.figure(figsize=(8, 6)) # change these numbers to make your plot bigger or smaller\n",
    "ax = fig.add_subplot(111)\n",
    "\n",
    "# create plot of electric field strength versus radius; use units of Angstroms and Gigavolts for nicer numbers\n",
    "ax.plot(r_vector/1e-10, E_radial/1e9, 'r')\n",
    "\n",
    "# set axis limits\n",
    "ax.set_xlim([1, 100])\n",
    "ax.set_ylim([0.001, 100])\n",
    "# set y-axis as log-scale\n",
    "ax.set_yscale('log')\n",
    "\n",
    "# set axis labels\n",
    "ax.set_xlabel('$r$ (Angstroms)')\n",
    "ax.set_ylabel('$E$ (GV/m)')\n",
    "\n",
    "# show plot\n",
    "plt.savefig('1D_field.png', dpi=300)\n",
    "plt.show()"
   ]
  },
  {
   "cell_type": "markdown",
   "metadata": {},
   "source": [
    "#### Create 2D heat map of electric field strength"
   ]
  },
  {
   "cell_type": "markdown",
   "metadata": {},
   "source": [
    "Define vectors for both radii $\\boldsymbol{r}$ and now also angles $\\boldsymbol{\\theta}$ to cover all locations in the $xy$-plane, then calculate the electric field at each location."
   ]
  },
  {
   "cell_type": "code",
   "execution_count": null,
   "metadata": {},
   "outputs": [],
   "source": [
    "# define vector of radii; the example runs from 1nm to 10nm in steps of 0.01nm.\n",
    "r_vector = np.arange(start=1e-9, stop=1e-8 + 1e-32, step=1e-11)\n",
    "# define vector of angles; the example runs from 0 to 2pi in steps of pi/360 (i.e. 1 degree).\n",
    "theta_vector = np.arange(start=0, stop=2*np.pi + 1e-32, step=np.pi/180)\n",
    "\n",
    "# create 2D matrix to store location in xy-plane, radial and nomral components of electric field strength, \n",
    "# and the x- and y-components of the electric fields\n",
    "x_loc = np.zeros((len(theta_vector), len(r_vector)))\n",
    "y_loc = np.zeros((len(theta_vector), len(r_vector)))\n",
    "E_radial = np.zeros((len(theta_vector), len(r_vector)))\n",
    "E_normal = np.zeros((len(theta_vector), len(r_vector)))\n",
    "E_x = np.zeros((len(theta_vector), len(r_vector)))\n",
    "E_y = np.zeros((len(theta_vector), len(r_vector)))\n",
    "                # creates a matrix full of zeros with size (number of angles) x (number of radii)\n",
    "\n",
    "# calculate electric field strength FOR each angle at a time\n",
    "for i in range(0, len(theta_vector)):\n",
    "    # calculate x and y locations for i'th value of the angle\n",
    "    x_loc[i][:] = r_vector*np.cos(theta_vector[i])\n",
    "    y_loc[i][:] = r_vector*np.sin(theta_vector[i])\n",
    "    \n",
    "    # calculate electric field strength vectors for the i'th value of the angle (SI units; i.e. V/m)\n",
    "    E_radial[i][:] = 2*(q_0*a_0)*np.cos(theta_vector[i])/(4*np.pi*epsilon_0*r_vector**3)\n",
    "    E_normal[i][:] = (q_0*a_0)*np.sin(theta_vector[i])/(4*np.pi*epsilon_0*r_vector**3)\n",
    "    \n",
    "    # calculate the x and y components of the electric field for the i'th value of the angle\n",
    "    E_x[i][:] = E_radial[i][:]*np.cos(theta_vector[i]) - E_normal[i][:]*np.sin(theta_vector[i])\n",
    "    E_y[i][:] = E_radial[i][:]*np.sin(theta_vector[i]) + E_normal[i][:]*np.cos(theta_vector[i])"
   ]
  },
  {
   "cell_type": "markdown",
   "metadata": {},
   "source": [
    "Create a plot of the radial component of the electric field $E$ as a function of radius $\\boldsymbol{r}$ and angle $\\boldsymbol{\\theta}$; we will use the $x$ and $y$ locations to plot the electric field in cartesian since this is easier in general. This will take a few second to run."
   ]
  },
  {
   "cell_type": "code",
   "execution_count": null,
   "metadata": {},
   "outputs": [],
   "source": [
    "# set up size of figure\n",
    "fig = plt.figure(figsize=(8, 6)) # change these numbers to make your plot bigger or smaller\n",
    "ax = fig.add_subplot(111)\n",
    "\n",
    "# create plot of electric field in the xy-plane\n",
    "sc = ax.scatter(x_loc/1e-10, y_loc/1e-10, c=E_radial/1e9, s=0.1, cmap='viridis')\n",
    "ax.set_aspect('equal')\n",
    "\n",
    "# set axis limits\n",
    "ax.set_xlim([-100, 100])\n",
    "ax.set_ylim([-100, 100])\n",
    "\n",
    "# set axis labels\n",
    "ax.set_xlabel('$x$ (Angstroms)')\n",
    "ax.set_ylabel('$y$ (Angstroms)')\n",
    "\n",
    "# add colorbar with axis label\n",
    "c = plt.colorbar(sc)\n",
    "c.set_label('$E$ (GV/m)')\n",
    "\n",
    "# show plot\n",
    "plt.savefig('2D_field.png', dpi=300)\n",
    "plt.show()"
   ]
  },
  {
   "cell_type": "markdown",
   "metadata": {},
   "source": [
    "#### Create 2D plot of electric field vectors"
   ]
  },
  {
   "cell_type": "markdown",
   "metadata": {},
   "source": [
    "Create a plot of the radial component of the electric field vector $\\boldsymbol{E}$ in the $xy$-plane. You will need to re-run the code in the previous section with fewer angles and radii. This will take a few seconds to run."
   ]
  },
  {
   "cell_type": "code",
   "execution_count": null,
   "metadata": {},
   "outputs": [],
   "source": [
    "# set up size of figure\n",
    "fig = plt.figure(figsize=(10, 10)) # change these numbers to make your plot bigger or smaller\n",
    "ax = fig.add_subplot(111)\n",
    "\n",
    "# create plot of electric field vectors in the xy-plane, scaled to their magnitude\n",
    "sc = ax.quiver(x_loc/1e-10, y_loc/1e-10, E_x/np.sqrt(E_x**2 + E_y**2), E_y/np.sqrt(E_x**2 + E_y**2), scale=50) \n",
    "ax.set_aspect('equal')\n",
    "\n",
    "# add location of charges to map [x0, x1, ...] and [y0, y1, ...]\n",
    "ax.plot([-a_0/2/1e-10, a_0/2/1e-10], [0, 0], 'or')\n",
    "\n",
    "# set axis limits\n",
    "ax.set_xlim([-100, 100])\n",
    "ax.set_ylim([-100, 100])\n",
    "\n",
    "# set axis labels\n",
    "ax.set_xlabel('$x$ (Angstroms)')\n",
    "ax.set_ylabel('$y$ (Angstroms)')\n",
    "\n",
    "# show plot\n",
    "plt.savefig('2D_vector.png', dpi=300)\n",
    "plt.show()"
   ]
  },
  {
   "cell_type": "code",
   "execution_count": null,
   "metadata": {},
   "outputs": [],
   "source": []
  }
 ],
 "metadata": {
  "kernelspec": {
   "display_name": "Python 2",
   "language": "python",
   "name": "python2"
  },
  "language_info": {
   "codemirror_mode": {
    "name": "ipython",
    "version": 2
   },
   "file_extension": ".py",
   "mimetype": "text/x-python",
   "name": "python",
   "nbconvert_exporter": "python",
   "pygments_lexer": "ipython2",
   "version": "2.7.17"
  }
 },
 "nbformat": 4,
 "nbformat_minor": 2
}
