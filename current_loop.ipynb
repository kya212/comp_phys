{
 "cells": [
  {
   "cell_type": "markdown",
   "metadata": {},
   "source": [
    "## Magnetic Field Dipole Plotter"
   ]
  },
  {
   "cell_type": "markdown",
   "metadata": {},
   "source": [
    "Code by Dr Ross Turner for KYA212/375 Computational Physics to plot the magnetic field strength and direction from an current loop.\n",
    "\n",
    "This code is written in python 2.7/3.7; to run the code select a cell and press SHIFT+ENTER."
   ]
  },
  {
   "cell_type": "markdown",
   "metadata": {},
   "source": [
    "#### Calculate magnetic induction field strength and direction at a point P"
   ]
  },
  {
   "cell_type": "markdown",
   "metadata": {},
   "source": [
    "Import code packages required for vector operations and to create plots."
   ]
  },
  {
   "cell_type": "code",
   "execution_count": null,
   "metadata": {},
   "outputs": [],
   "source": [
    "import numpy as np\n",
    "import matplotlib.pyplot as plt\n",
    "import matplotlib.colors as colors"
   ]
  },
  {
   "cell_type": "markdown",
   "metadata": {},
   "source": [
    "Define physical constants (e.g. $\\mu_0$), the radius of the current loop, $r_0$, the current passing through the loop, $i_0$, and the step size in the angle of azimuth when integrating, $d\\phi$."
   ]
  },
  {
   "cell_type": "code",
   "execution_count": null,
   "metadata": {},
   "outputs": [],
   "source": [
    "# vacuum permeability (SI units)\n",
    "mu_0 = 4*np.pi*1e-7\n",
    "# radius of current loop (SI units; i.e. metres)\n",
    "R_0 = ...\n",
    "# current passing through wire (SI units; i.e. amps)\n",
    "I_0 = ...\n",
    "# step size when numerically integrating\n",
    "dphi = np.pi/1800"
   ]
  },
  {
   "cell_type": "markdown",
   "metadata": {},
   "source": [
    "Define equation for the contribution to the magnetic induction field strength and direction, $\\boldsymbol{dB}$, at a point $P(r, \\theta, \\phi) = (0.5, \\pi/3, 0)$ from an element of the current loop of length $\\boldsymbol{dl}$ at $(r_0, \\theta_0, \\phi_0) = (0.1, \\pi/2, \\pi/4)$. The direction should be expressed by spliting $\\boldsymbol{dB}$ into cartesian components; i.e. $\\boldsymbol{dB} = (dB_x, dB_y, dB_z)$."
   ]
  },
  {
   "cell_type": "code",
   "execution_count": null,
   "metadata": {},
   "outputs": [],
   "source": [
    "# define the radius, inclination angle, and angle of azimuth of point P\n",
    "r, theta, phi = ..., ..., ...\n",
    "# calculate the cartesian components of the vector to the point P(r, theta, phi)\n",
    "P_x, P_y, P_z = ..., ..., ...\n",
    "\n",
    "# define the radius, inclination angle, and angle of azimuth of the line segment on the current loop\n",
    "r_0, theta_0, phi_0 = R_0, np.pi/2, ...\n",
    "# calculate the the cartesian components of the position vector to the line segment at (r_0, theta_0, phi_0)\n",
    "l_x, l_y, l_z = ..., ..., ...\n",
    "# calculate the direction of the vector dl at the line segment at (r_0, theta_0, phi_0)\n",
    "# assume anticlockwise rotation as viewed from positive z axis\n",
    "dl_x, dl_y, dl_z = ..., ..., ...\n",
    "\n",
    "# calculate the distance between the line segment dl and the point P\n",
    "s = ...\n",
    "# calculate the cartesian components of the *unit* vector from the line segment dl to the point P\n",
    "s_x, s_y, s_z = ..., ..., ...\n",
    "\n",
    "# calculate the cross product of dl and s for the three cartesian components\n",
    "cross_x, cross_y, cross_z = (dl_y*s_z - dl_z*s_y), (dl_z*s_x - dl_x*s_z), (dl_x*s_y - dl_y*s_x)\n",
    "\n",
    "# calculate the cartesian components of the magnetic induction field at point P\n",
    "dB_x, dB_y, dB_z = ..., ..., ...\n",
    "\n",
    "# print out the cartesian components of the magnetic field at this location\n",
    "print('({:g}, {:g}, {:g}) T'.format(dB_x, dB_y, dB_z))"
   ]
  },
  {
   "cell_type": "markdown",
   "metadata": {},
   "source": [
    "Define equation for the contribution to the magnetic induction field strength and direction, $\\boldsymbol{B}$, at a point $P(r, \\theta, \\phi) = (0.5, \\pi/3, 0)$ from the entire current loop; i.e integrate (or sum) contibutions from numerous line elements $\\boldsymbol{dl}$ spaced at least every degree in $\\phi$."
   ]
  },
  {
   "cell_type": "code",
   "execution_count": null,
   "metadata": {},
   "outputs": [],
   "source": [
    "# define the radius, inclination angle, and angle of azimuth of point P\n",
    "r, theta, phi = ..., ..., ... # same as above\n",
    "# calculate the cartesian components of the position vector to the point P(r, theta, phi)\n",
    "P_x, P_y, P_z = ..., ..., ... # same as above\n",
    "\n",
    "# define the radius, inclination angle of the line segments on the current loop\n",
    "r_0, theta_0 = R_0, np.pi/2\n",
    "# define a vector of angles of azimuth for the line segments on the current loop\n",
    "phi_0_vector = np.arange(start=0, stop=2*np.pi + dphi/2, step=dphi)\n",
    "# calculate the the cartesian components of the position vector to each line segment at (r_0, theta_0, phi_0)\n",
    "l_x_vector, l_y_vector, l_z = ..., ..., ...\n",
    "# calculate the direction of the vector dl for each line segment at (r_0, theta_0, phi_0)\n",
    "# assume anticlockwise rotation as viewed from positive z axis\n",
    "dl_x_vector, dl_y_vector, dl_z = ..., ..., ...\n",
    "\n",
    "# calculate the distance between each line segment dl and the point P\n",
    "s_vector = ...\n",
    "# calculate the cartesian components of the *unit* vectors from each line segment dl to the point P\n",
    "s_x_vector, s_y_vector, s_z_vector = ..., ..., ...\n",
    "\n",
    "# calculate the cross product of dl and r at each point on the current loop for the three cartesian components\n",
    "cross_x_vector, cross_y_vector, cross_z_vector = (dl_y_vector*s_z_vector - dl_z*s_y_vector), \\\n",
    "                (dl_z*s_x_vector - dl_x_vector*s_z_vector), (dl_x_vector*s_y_vector - dl_y_vector*s_x_vector)\n",
    "\n",
    "# calculate the cartesian components of the magnetic induction field at point P from each point on the current loop\n",
    "dB_x_vector, dB_y_vector, dB_z_vector = ..., ..., ...\n",
    "\n",
    "# numerically integrate the contributions to the magnetic field from each point on the current loop\n",
    "B_x, B_y, B_z = np.sum(dB_x_vector)*dphi, np.sum(dB_y_vector)*dphi, np.sum(dB_z_vector)*dphi\n",
    "\n",
    "# print out the cartesian components of the magnetic field at this location\n",
    "print('({:g}, {:g}, {:g}) T'.format(B_x, B_y, B_z))"
   ]
  },
  {
   "cell_type": "markdown",
   "metadata": {},
   "source": [
    "This code is getting quite long, yet is only calculating the magnetic induction field at a single point! The code can be placed inside a function (just like inbuilt functions such as sin and cos). The function is defined below, you just need to copy your code from above in the specified location and remove the definition of the $r$, $\\theta$ and $\\phi$ and the point $P$."
   ]
  },
  {
   "cell_type": "code",
   "execution_count": null,
   "metadata": {},
   "outputs": [],
   "source": [
    "def B_field(r, theta, phi):\n",
    "    # copy your code from above here; making sure each line has exactly one tab-space before it, like this line\n",
    "    # remove the line which defines r, theta and phi at point P; these parameters will now be inputs to the function\n",
    "    # you should also remove the print out line from this function as it will make the code slow to run\n",
    "\n",
    "    ...\n",
    "    \n",
    "    # this line must be placed after your code\n",
    "    # return the magnetic induction field components\n",
    "    return B_x, B_y, B_z"
   ]
  },
  {
   "cell_type": "markdown",
   "metadata": {},
   "source": [
    "Check the function returns the correct values for the same inputs you tested before."
   ]
  },
  {
   "cell_type": "code",
   "execution_count": null,
   "metadata": {},
   "outputs": [],
   "source": [
    "# define the radius, inclination angle, and angle of azimuth of point P\n",
    "r, theta, phi = ..., ..., ... # same as above\n",
    "\n",
    "# call B_field function you defined above\n",
    "B_x, B_y, B_z = B_field(r, theta, phi)\n",
    "\n",
    "# print out the cartesian components of the magnetic field at this location\n",
    "print('({:g}, {:g}, {:g}) T'.format(B_x, B_y, B_z))"
   ]
  },
  {
   "cell_type": "markdown",
   "metadata": {},
   "source": [
    "#### Create a plot of the magnetic induction field strength along the dipole axis"
   ]
  },
  {
   "cell_type": "markdown",
   "metadata": {},
   "source": [
    "Define a vector of radii $\\boldsymbol{r}$ along the positive $z$-axis ($\\theta = 0$) and calculate the magnetic induction field stength at each location. Consider locations of the point $P$ on this axis running from $r = 0$ up to $r = 0.5$ metre."
   ]
  },
  {
   "cell_type": "code",
   "execution_count": null,
   "metadata": {},
   "outputs": [],
   "source": [
    "# define vector of radii for the locations of the point P\n",
    "r_vector = np.arange(start=0, stop=... + 1e-4, step=0.001)\n",
    "# define inclination angle, and angle of azimuth of point P\n",
    "theta, phi = ..., ...\n",
    "\n",
    "# create empty 1D vectors to store the cartesian components of the magnetic field\n",
    "B_x_vector = np.zeros(len(r_vector))\n",
    "B_y_vector = np.zeros(len(r_vector))\n",
    "B_z_vector = np.zeros(len(r_vector))\n",
    "\n",
    "# calculate magnetic induction field components FOR each point P (SI units; i.e. T)\n",
    "for i in range(0, len(r_vector)):\n",
    "    B_x_vector[i], B_y_vector[i], B_z_vector[i] = B_field(r_vector[i], theta, phi)\n",
    "    \n",
    "# print out electric field components at first (index 0), third (index 2) and last (index -1) location\n",
    "print('({:g}, {:g}, {:g}) T'.format(B_x_vector[0], B_y_vector[0], B_z_vector[0]))\n",
    "print('({:g}, {:g}, {:g}) T'.format(B_x_vector[2], B_y_vector[2], B_z_vector[2]))\n",
    "print('({:g}, {:g}, {:g}) T'.format(B_x_vector[-1], B_y_vector[-1], B_z_vector[-1]))"
   ]
  },
  {
   "cell_type": "markdown",
   "metadata": {},
   "source": [
    "Create a plot of the total strength of the magnetic induction field $|\\boldsymbol{B}|$ as a function of radius $\\boldsymbol{r}$ along the $z$-axis."
   ]
  },
  {
   "cell_type": "code",
   "execution_count": null,
   "metadata": {},
   "outputs": [],
   "source": [
    "# set up size of figure\n",
    "fig = plt.figure(figsize=(8, 6)) # change these numbers to make your plot bigger or smaller\n",
    "ax = fig.add_subplot(111)\n",
    "\n",
    "# create plot of magnetic induction field versus radius\n",
    "ax.plot(r_vector, .../1e-6, 'r')\n",
    "\n",
    "# set axis limits\n",
    "ax.set_xlim([0, 0.5])\n",
    "ax.set_ylim([0, 35])\n",
    "\n",
    "# set axis labels\n",
    "ax.set_xlabel('$z$ (m)')\n",
    "ax.set_ylabel('$B$ ($\\\\mu$T)')\n",
    "\n",
    "# show plot\n",
    "plt.savefig('1D_field.png', dpi=300)\n",
    "plt.show()"
   ]
  },
  {
   "cell_type": "markdown",
   "metadata": {},
   "source": [
    "#### Create 2D heat map of magnetic induction field strength"
   ]
  },
  {
   "cell_type": "markdown",
   "metadata": {},
   "source": [
    "Define vectors for both radii $\\boldsymbol{r}$ and now also angles $\\boldsymbol{\\theta}$ to cover all locations in the $xz$-plane, then calculate the magnetic induction field at each location. The field is symmetric with the angle of azimuth $\\phi$ so this can be set as any value, e.g. $\\phi = 0$. You may encounter error messages for locations on the current loop, don't worry about this."
   ]
  },
  {
   "cell_type": "code",
   "execution_count": null,
   "metadata": {},
   "outputs": [],
   "source": [
    "# define vector of radii for the locations of the point P\n",
    "r_vector = np.arange(start=0, stop=... + 1e-4, step=0.001)\n",
    "# define vector of theta for the locations of the point P\n",
    "theta_vector = np.arange(start=0, stop=2*np.pi + 1e-4, step=np.pi/180)\n",
    "# define the angle of azimuth of point P\n",
    "phi = ...\n",
    "\n",
    "# create empty 2D matrices to store the cartesian components of the magnetic field, and the x and z locations\n",
    "B_x_matrix = np.zeros((len(r_vector), len(theta_vector)))\n",
    "B_y_matrix = np.zeros((len(r_vector), len(theta_vector)))\n",
    "B_z_matrix = np.zeros((len(r_vector), len(theta_vector)))\n",
    "x_matrix = np.zeros((len(r_vector), len(theta_vector)))\n",
    "z_matrix = np.zeros((len(r_vector), len(theta_vector)))\n",
    "\n",
    "# calculate magnetic induction field FOR each radius and FOR each angle\n",
    "for i in range(0, len(r_vector)):\n",
    "    for j in range(0, len(theta_vector)):\n",
    "        # calculate x and z locations for i'th value of the radius and j'th value of theta\n",
    "        x_matrix[i][j] = ...\n",
    "        z_matrix[i][j] = ...\n",
    "\n",
    "        # calculate magnetic induction field vectors for the i'th value of the radius and j'th value of theta\n",
    "        B_x_matrix[i][j], B_y_matrix[i][j], B_z_matrix[i][j] = B_field(r_vector[i], theta_vector[j], phi)"
   ]
  },
  {
   "cell_type": "markdown",
   "metadata": {},
   "source": [
    "Create a plot of the $x$ component of the magnetic induction field $B_x$, the $z$ component of the field $B_z$, and total strength of the magnetic induction field $|\\boldsymbol{B}|$ as a function of radius $\\boldsymbol{r}$ and angle $\\boldsymbol{\\theta}$."
   ]
  },
  {
   "cell_type": "code",
   "execution_count": null,
   "metadata": {},
   "outputs": [],
   "source": [
    "# set up size of figure\n",
    "fig = plt.figure(figsize=(8, 6)) # change these numbers to make your plot bigger or smaller\n",
    "ax = fig.add_subplot(111)\n",
    "\n",
    "# create plot of electric field in the xy-plane\n",
    "sc = ax.scatter(x_matrix, z_matrix, c=.../1e-6, s=0.1, cmap='viridis', vmin=-40, vmax=40)\n",
    "ax.set_aspect('equal')\n",
    "\n",
    "# set axis limits\n",
    "ax.set_xlim([-0.5, 0.5])\n",
    "ax.set_ylim([-0.5, 0.5])\n",
    "\n",
    "# set axis labels\n",
    "ax.set_xlabel('$x$ (m)')\n",
    "ax.set_ylabel('$z$ (m)')\n",
    "\n",
    "# add colorbar with axis label\n",
    "c = plt.colorbar(sc)\n",
    "c.set_label('$B$ ($\\\\mu$T)')\n",
    "\n",
    "# show plot\n",
    "plt.savefig('2D_field.png', dpi=300)\n",
    "plt.show()"
   ]
  },
  {
   "cell_type": "markdown",
   "metadata": {},
   "source": [
    "#### Create 2D plot of magnetic field vectors"
   ]
  },
  {
   "cell_type": "markdown",
   "metadata": {},
   "source": [
    "Create a plot of the magnetic induction field vector $\\boldsymbol{B}$ in the $xz$-plane. You will need to re-run the code in the previous section with fewer angles and radii. This code should be copied below and adjusted the appropriate number of points in the radius and theta vectors."
   ]
  },
  {
   "cell_type": "code",
   "execution_count": null,
   "metadata": {},
   "outputs": [],
   "source": [
    "# copy code form above here"
   ]
  },
  {
   "cell_type": "code",
   "execution_count": null,
   "metadata": {},
   "outputs": [],
   "source": [
    "# set up size of figure\n",
    "fig = plt.figure(figsize=(10, 10)) # change these numbers to make your plot bigger or smaller\n",
    "ax = fig.add_subplot(111)\n",
    "\n",
    "# create plot of electric field vectors in the xy-plane, scaled to their magnitude\n",
    "sc = ax.quiver(x_matrix, z_matrix, ..., ..., scale=35) \n",
    "ax.set_aspect('equal')\n",
    "\n",
    "# add location of charges to map [x0, x1, ...] and [y0, y1, ...]\n",
    "ax.plot([-R_0, R_0], [0, 0], 'or')\n",
    "\n",
    "# set axis limits\n",
    "ax.set_xlim([-0.5, 0.5])\n",
    "ax.set_ylim([-0.5, 0.5])\n",
    "\n",
    "# set axis labels\n",
    "ax.set_xlabel('$x$ (m)')\n",
    "ax.set_ylabel('$z$ (m)')\n",
    "\n",
    "# show plot\n",
    "plt.savefig('2D_vector.png', dpi=300)\n",
    "plt.show()"
   ]
  },
  {
   "cell_type": "code",
   "execution_count": null,
   "metadata": {},
   "outputs": [],
   "source": []
  }
 ],
 "metadata": {
  "kernelspec": {
   "display_name": "Python 2",
   "language": "python",
   "name": "python2"
  },
  "language_info": {
   "codemirror_mode": {
    "name": "ipython",
    "version": 3
   },
   "file_extension": ".py",
   "mimetype": "text/x-python",
   "name": "python",
   "nbconvert_exporter": "python",
   "pygments_lexer": "ipython3",
   "version": "3.8.5"
  }
 },
 "nbformat": 4,
 "nbformat_minor": 2
}
